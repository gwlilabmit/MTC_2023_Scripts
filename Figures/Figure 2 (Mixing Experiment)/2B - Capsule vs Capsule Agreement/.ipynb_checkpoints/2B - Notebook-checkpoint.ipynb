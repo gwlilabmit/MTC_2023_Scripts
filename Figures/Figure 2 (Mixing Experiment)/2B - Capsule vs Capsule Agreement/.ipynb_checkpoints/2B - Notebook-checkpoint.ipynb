{
 "cells": [
  {
   "cell_type": "markdown",
   "metadata": {},
   "source": [
    "### Figure 2B - Capsule vs Capsule Transcriptome:\n",
    "\n",
    "Here we plot the data comparing the two capsule samples - the capsule sample purified from the E. coli sample alone, and the sample purified from the Mixed sample.  The plot generates shows a scatterplot where each point is plotted at the RPM (Reads per Million) value of the sample from the E. coli sample and the Mixed sample. "
   ]
  },
  {
   "cell_type": "code",
   "execution_count": 3,
   "metadata": {},
   "outputs": [],
   "source": [
    "import pandas as pd\n",
    "import os\n",
    "from bokeh.io import push_notebook, show, output_notebook"
   ]
  },
  {
   "cell_type": "markdown",
   "metadata": {},
   "source": [
    "First we will read our data frames into a file:"
   ]
  },
  {
   "cell_type": "code",
   "execution_count": 5,
   "metadata": {},
   "outputs": [
    {
     "name": "stdout",
     "output_type": "stream",
     "text": [
      "\n",
      "Here is the list of unique samples for which there are dataframe files: \n",
      "\n",
      "['Bsub_Lysate', 'Ecoli_Cap', 'Ecoli_Lysate', 'Mix_Cap', 'Mix_Lysate', 'ot_Early_Cap', 'ot_Early_Lysate', 'ot_Late_Cap', 'ot_Late_Lysate']\n",
      "\n"
     ]
    }
   ],
   "source": [
    "df_dir = '../../../Processed Data Files/dataframe files/230117Li/'\n",
    "prefix = '230117Li_Mixing_'\n",
    "df_dict = dict()\n",
    "names = []\n",
    "for file in os.listdir(df_dir):\n",
    "    if file.endswith('_dataframe.txt') and file.startswith(prefix):\n",
    "        name = file[file.find(prefix)+len(prefix):]\n",
    "        name = name[:name.find('_1')]\n",
    "        new_df  = pd.read_csv(''.join([df_dir,file]))\n",
    "        new_df['Length'] = new_df['Stop'] - new_df['Start']\n",
    "        df_dict[name] = new_df\n",
    "        names.append(name)\n",
    "print(f'\\nHere is the list of unique samples for which there are dataframe files: \\n\\n{names}\\n')\n",
    "names_dict = {'Ecoli_Cap':'E. coli Capsule', 'Mix_Cap':'Mixture Capsule', 'Ecoli_Lysate':'E. coli Lysate', \n",
    "              'Mix_Lysate':'Mixture Lysate', 'Bsub_Lysate':'B. subtilis Lysate'}"
   ]
  },
  {
   "cell_type": "markdown",
   "metadata": {},
   "source": [
    "Some helper functions to help us with the plotting:"
   ]
  },
  {
   "cell_type": "code",
   "execution_count": 11,
   "metadata": {},
   "outputs": [],
   "source": [
    "def into_RPKM(df_dict, name):\n",
    "    sample_df = df_dict[name].copy()\n",
    "    sample_df = sample_df.rename(columns = {'Counts':name})\n",
    "    sample_df[name] = sample_df[name]/(sum(sample_df[name])/1000000) #RPM\n",
    "    sample_df[name] = sample_df[name].div(sample_df['Length']) #RPKM\n",
    "    \n",
    "    return sample_df"
   ]
  },
  {
   "cell_type": "markdown",
   "metadata": {},
   "source": [
    "Comparative abundance plots:"
   ]
  },
  {
   "cell_type": "code",
   "execution_count": 12,
   "metadata": {},
   "outputs": [],
   "source": [
    "x = 'Ecoli_Cap' # capsule - e coli\n",
    "y = 'Mix_Cap' # capsule - mixture sample\n",
    "\n",
    "x_df = into_RPKM(df_dict, x)\n",
    "y_df = into_RPKM(df_dict, y)\n",
    "plot_df = x_df.merge(y_df)\n",
    "plot_df.drop(plot_df[plot_df['Name'] == 'error'].index, inplace = True)\n",
    "plot_df.drop(plot_df[plot_df[x] == 0].index, inplace = True)\n",
    "plot_df.drop(plot_df[plot_df[y] == 0].index, inplace = True)\n",
    "cap_ecoli_same_df = deepcopy(plot_df)\n",
    "genome_map = {'bsubtilis':'B. subtilis','capsule':'E. coli',\n",
    "            'ecoli':'E. coli'}\n",
    "cap_ecoli_same_df['Genome'] = cap_ecoli_same_df['Genome'].map(genome_map)\n",
    "dot_source = ColumnDataSource(cap_ecoli_same_df)\n",
    "\n",
    "theil_sen_regressor = TheilSenRegressor()\n",
    "theil_sen_regressor.fit(np.log(np.asarray(plot_df[x])).reshape(-1, 1), np.log(np.asarray(plot_df[y])))\n",
    "\n",
    "fit_x_vals = np.sort(np.asarray(plot_df[x]))\n",
    "fit_y_vals = np.exp(theil_sen_regressor.predict(np.log(fit_x_vals).reshape(-1,1)))\n",
    "fit_r2 = r2_score(plot_df[y], np.exp(theil_sen_regressor.predict(np.log(np.asarray(plot_df[x])).reshape(-1,1))))\n",
    "line_source = ColumnDataSource({\"x_line\": fit_x_vals, \"y_line\": fit_y_vals,\n",
    "                                \"Name\": [f'Fit, R^2 = {fit_r2:.3f}' for _ in fit_x_vals]})"
   ]
  },
  {
   "cell_type": "markdown",
   "metadata": {},
   "source": [
    "Lets check out what Genomes we have to work with:"
   ]
  },
  {
   "cell_type": "code",
   "execution_count": 13,
   "metadata": {},
   "outputs": [
    {
     "name": "stdout",
     "output_type": "stream",
     "text": [
      "['B. subtilis', 'E. coli']\n"
     ]
    }
   ],
   "source": [
    "print(list(cap_ecoli_same_df.Genome.unique()))"
   ]
  },
  {
   "cell_type": "markdown",
   "metadata": {},
   "source": [
    "Noe lets make the plot:"
   ]
  },
  {
   "cell_type": "code",
   "execution_count": 14,
   "metadata": {},
   "outputs": [],
   "source": [
    "name_1 = names_dict[x].replace('\\n', '')\n",
    "name_2 = names_dict[y].replace('\\n', '')\n",
    "title_str = f\"{name_1} vs. {name_2} RPKM\"\n",
    "font = \"Arial\"\n",
    "hover = HoverTool(tooltips = [('Name', '@Name')])\n",
    "mapper = CategoricalColorMapper(palette=[\"skyblue\",\"sandybrown\"], factors=[\"B. subtilis\", \"E. coli\"])\n",
    "p = figure(title = title_str, y_axis_type = 'log',\n",
    "           x_axis_type = 'log', tools=[hover, 'wheel_zoom', 'box_zoom', 'save', 'reset'],\n",
    "           x_axis_label = f'{names_dict[x]} Sample RPKM',\n",
    "           y_axis_label = f'{names_dict[y]} Sample RPKM',\n",
    "           plot_width = 1200, plot_height = 1200)\n",
    "data = p.circle(x, y, source = dot_source ,fill_alpha=0.35, size=15,\n",
    "         line_alpha = 0.05, color={'field': 'Genome', 'transform': mapper},\n",
    "          legend_field = 'Genome')\n",
    "\n",
    "#fit = p.line(\"x_line\", \"y_line\", source = line_source, line_width=6, line_alpha = 0.5, line_color = \"orange\")\n",
    "p.title.text_font_size = '35pt'\n",
    "p.title.align = \"center\"\n",
    "p.title.text_font = font\n",
    "p.xaxis.axis_label_text_font_size = \"30pt\"\n",
    "p.xaxis.axis_label_text_font = font\n",
    "p.xaxis.axis_label_text_font_style = \"bold\"\n",
    "p.yaxis.axis_label_text_font_size = \"30pt\"\n",
    "p.yaxis.axis_label_text_font = font\n",
    "p.yaxis.axis_label_text_font_style = \"bold\"\n",
    "\n",
    "p.xaxis.major_label_text_font_size = \"25pt\"\n",
    "p.yaxis.major_label_text_font_size = \"25pt\"\n",
    "p.xgrid.grid_line_alpha = 0.5\n",
    "p.ygrid.grid_line_alpha = 0.5\n",
    "\n",
    "#legend = Legend(items=[\n",
    "#    (f'Observed RPKM of a given gene',   [data]),\n",
    "#    (f'Linear Fit R^2: {fit_r2:.3f}', [fit]),\n",
    "#], location=(380, 200), label_text_font_size = \"25px\",\n",
    "#   border_line_alpha = 1)\n",
    "#p.add_layout(legend)\n",
    "p.legend.label_text_font_size = '35pt'\n",
    "p.legend.glyph_height = 50\n",
    "p.legend.glyph_width = 90\n",
    "p.legend.label_height = 50\n",
    "p.legend.label_width = 50\n",
    "p.legend.background_fill_color = 'ghostwhite'\n",
    "p.legend.location = (120, 700)\n",
    "p.legend.border_line_width = 2\n",
    "html = file_html(p, CDN, f\"{x}_vs_{y}\")\n",
    "with open( f\"./{x}_vs_{y}.html\", 'w') as f:\n",
    "    f.write(html)"
   ]
  },
  {
   "cell_type": "markdown",
   "metadata": {},
   "source": [
    "We can plot the relative abundances of each genome. "
   ]
  },
  {
   "cell_type": "code",
   "execution_count": 17,
   "metadata": {
    "scrolled": false
   },
   "outputs": [],
   "source": [
    "samples = ['Mix_Cap', 'Mix_Lysate', 'Ecoli_Cap', 'Ecoli_Lysate', 'Bsub_Lysate']\n",
    "genome_map = {'bsubtilis':'B. subtilis','capsule':'E. coli', 'ecoli':'E. coli'}\n",
    "\n",
    "real_names = []\n",
    "bar_plot_data = dict()\n",
    "genomes = list(cap_ecoli_same_df.Genome.unique())\n",
    "for g in genomes:\n",
    "    bar_plot_data[g] = []\n",
    "\n",
    "for n in samples:\n",
    "    real_names.append(names_dict[n])\n",
    "    data_df = into_RPKM(df_dict, n)\n",
    "    df_copy = deepcopy(data_df)\n",
    "    df_copy['Genome'] = df_copy['Genome'].map(genome_map)\n",
    "    for g in genomes:\n",
    "        arr = bar_plot_data[g]\n",
    "        arr.append(sum(df_copy[df_copy.Genome == g][n])/sum(df_copy[n]))\n",
    "        bar_plot_data[g] = arr\n",
    "bar_plot_data['samples'] = real_names\n",
    "\n",
    "mapper = CategoricalColorMapper(palette=[\"skyblue\", \"sandybrown\"], factors=[\"B. subtilis\", \"E. coli\"])\n",
    "hover = HoverTool(tooltips = [('Name', '@Name')])\n",
    "p = figure(y_range = [0, 1.25], x_range = real_names, height = 1000, width = 1400, \n",
    "           title=\"Percent Reads Mapping to Each Genome\")\n",
    "p.vbar_stack(genomes, x = 'samples', width=0.9, source = bar_plot_data,\n",
    "             color = [\"skyblue\", \"sandybrown\"],\n",
    "             legend_label = genomes)\n",
    "\n",
    "p.y_range.start = 0\n",
    "p.x_range.range_padding = 0.1\n",
    "p.xgrid.grid_line_color = None\n",
    "p.axis.minor_tick_line_color = None\n",
    "p.outline_line_color = None\n",
    "p.legend.location = (360, 675)\n",
    "p.legend.label_text_font_size = '35pt'\n",
    "p.legend.orientation = \"horizontal\"\n",
    "\n",
    "p.title.text_font_size = \"40pt\"\n",
    "p.title.align = 'center'\n",
    "\n",
    "p.xaxis.major_label_text_font_size = \"35pt\"\n",
    "\n",
    "p.yaxis.axis_label=\"Percentage Mapped\"\n",
    "p.yaxis.axis_label_text_font_size = \"35pt\"\n",
    "p.yaxis.major_label_text_font_size = \"35pt\"\n",
    "p.xaxis.axis_label_text_font_style = \"bold\"\n",
    "p.yaxis.axis_label_text_font_style = \"bold\"\n",
    "\n",
    "p.legend.glyph_height = 50\n",
    "p.legend.glyph_width = 90\n",
    "p.legend.label_height = 50\n",
    "p.legend.label_width = 50\n",
    "\n",
    "html = file_html(p, CDN, f\"Percent Genome Plot {'_'.join(samples)}.html\")\n",
    "with open(f\"Percent Genome Plot {'_'.join(samples)}.html\", 'w') as f:\n",
    "    f.write(html)"
   ]
  },
  {
   "cell_type": "markdown",
   "metadata": {},
   "source": [
    "We can also create a 2d plot comparing the relative abundances of each genome:"
   ]
  },
  {
   "cell_type": "code",
   "execution_count": 22,
   "metadata": {},
   "outputs": [],
   "source": [
    "df_2d_plot = {\"sample_ids\": ['Mix_Cap', 'Mix_Lysate', 'Ecoli_Cap', 'Ecoli_Lysate', 'Bsub_Lysate'], \"B. subtilis\":[], \"E. coli\":[], \"real_names\": [],\n",
    "             \"colors\": ['lightseagreen', 'lightsalmon', 'lightpink', 'khaki', 'darkturquoise']}\n",
    "genome_map = {'bsubtilis':'B. subtilis','capsule':'E. coli', 'ecoli':'E. coli'}\n",
    "\n",
    "for n in df_2d_plot[\"sample_ids\"]:\n",
    "    df_2d_plot[\"real_names\"].append(names_dict[n])\n",
    "    data_df = into_RPKM(df_dict, n)\n",
    "    df_copy = deepcopy(data_df)\n",
    "    df_copy['Genome'] = df_copy['Genome'].map(genome_map)\n",
    "    for g in list(df_copy.Genome.unique()):\n",
    "        df_2d_plot[g].append((sum(df_copy[df_copy.Genome == g][n])/sum(df_copy[n])))\n",
    "\n",
    "mapper = CategoricalColorMapper(palette=[\"skyblue\", \"sandybrown\"], factors=[\"B. subtilis\", \"E. coli\"])\n",
    "hover = HoverTool(tooltips = [('Sample', '@real_names')])\n",
    "p = figure(title = \"Percent Reads Mapped to Each Genome\", y_axis_type = 'log',\n",
    "           x_axis_type = 'log', tools=[hover, 'wheel_zoom', 'box_zoom', 'save', 'reset'],\n",
    "           x_axis_label = \"Percent Mapping to B. Subtilis Genome\",\n",
    "           y_axis_label = \"Percent Mapping to E. coli Genome\",\n",
    "           plot_width = 1200, plot_height = 1200, y_range = [0.00001, 2.5], x_range = [0.00001, 2.5],)\n",
    "data = p.circle(\"B. subtilis\", \"E. coli\", source = ColumnDataSource(df_2d_plot), size=60, \n",
    "                legend_field = \"real_names\", fill_color = \"colors\", line_color = \"colors\")\n",
    "\n",
    "p.legend.label_text_font_size = '35pt'\n",
    "\n",
    "p.title.text_font_size = \"30pt\"\n",
    "p.title.align = 'center'\n",
    "\n",
    "p.xaxis.axis_label_text_font_size = \"30pt\"\n",
    "p.xaxis.major_label_text_font_size = \"30pt\"\n",
    "\n",
    "p.yaxis.axis_label_text_font_size = \"30pt\"\n",
    "p.yaxis.major_label_text_font_size = \"30pt\"\n",
    "p.xaxis.axis_label_text_font_style = \"normal\"\n",
    "p.yaxis.axis_label_text_font_style = \"normal\"\n",
    "\n",
    "\n",
    "p.legend.glyph_height = 100\n",
    "p.legend.glyph_width = 90\n",
    "p.legend.label_height = 100\n",
    "p.legend.label_width = 100\n",
    "p.legend.location = (200, 200)\n",
    "\n",
    "html = file_html(p, CDN, \"2d_Genome_plot_v2.html\")\n",
    "with open(\"2d_Genome_plot_v2.html\", 'w') as f:\n",
    "    f.write(html)"
   ]
  },
  {
   "cell_type": "raw",
   "metadata": {},
   "source": []
  }
 ],
 "metadata": {
  "kernelspec": {
   "display_name": "Python 3",
   "language": "python",
   "name": "python3"
  },
  "language_info": {
   "codemirror_mode": {
    "name": "ipython",
    "version": 3
   },
   "file_extension": ".py",
   "mimetype": "text/x-python",
   "name": "python",
   "nbconvert_exporter": "python",
   "pygments_lexer": "ipython3",
   "version": "3.8.1"
  }
 },
 "nbformat": 4,
 "nbformat_minor": 4
}
